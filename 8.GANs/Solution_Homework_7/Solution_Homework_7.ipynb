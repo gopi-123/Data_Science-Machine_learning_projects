{
 "cells": [
  {
   "cell_type": "markdown",
   "metadata": {},
   "source": [
    "## Solution Homework 7 : GAN (Generative Adversarial Networks)"
   ]
  },
  {
   "cell_type": "markdown",
   "metadata": {},
   "source": [
    "#### Exercise 1.1\n",
    "\n"
   ]
  },
  {
   "cell_type": "markdown",
   "metadata": {},
   "source": [
    "#### Summary of paper: “Learning a Probabilistic Latent Space of Object Shapes via 3D Generative-Adversarial Modeling”\n",
    "\n",
    "This paper aims at addressing the problem of 3D object generation.\n",
    "\n",
    "The researchers explain how 3D objects can be generated from images using a Generative Adversarial Networks (GAN), which also shows that it is possible to create these 3D models without having them previously built using CAD models. \n",
    "\n",
    "The paper introduces two frameworks 3D-GAN and 3D-VAE-GAN to generate 3D objects.  \n",
    "We can infer that this paper presents a network that would not work on the usual 2D image but instead on 3-dimensional shapes and the basic task of discriminator network would be to classify whether the generated 3D shapes real or synthetic?\n",
    "\n",
    "For the 3D-GAN they combine GANs with volumetric convolutional networks.  Volumetric convolutional networks are very similar to convolutional networks , just for 3D representations and not for 2 dimensions.\n",
    "\n",
    "The generator and the discriminator consist of five volumetric fully convolutional layers. Like in normal convolutional GANs the generator mirrors the convolution of the discriminator. The generator gets a 200 latent vector z as input and generates a $ 64*64*64 $ cube as output which represents a 3D object.\n",
    "In the case of 3D objects, An issue stated by the authors is that the discriminator learns much more quickly than the generator. Authors call the generator job much more challenging than the discriminator. They kept the discriminator's accuracy below\n",
    "80% as it tends to learn much faster than the generator so that the generator still has a chance to improve on each generation.\n",
    "\n",
    "One significant element in the paper is that the discriminator in the GAN has been shown to be prepared without supervision (unsupervised). This resulted to show good performance for the 3D object shape recognition, which exhibits comparable performance w.r.t supervised methods. They also take into consideration volumetric convolutional networks for their research. \n",
    "\n",
    "The authors extended the GAN-Model by an additional encoder which processes 2D images.\n",
    "This model is called VAE-GAN (Variational Autoencoder - Generative Adversarial Network).\n",
    "The objective of this framework is to learn a 3D object from a 2D image.\n",
    "\n",
    "It consists of image Encoder, a Decoder (Generator in GAN) and  a\n",
    "Discriminator. The architecture of the generator and\n",
    "the discriminator are the same as in the 3D-GAN.To train 3D-VAE-GAN it requires both 2D-images and their corresponding 3D models.  \n",
    "They first demonstrate the qualitative outcomes of produced 3D objects in their evaluation, assess unsupervised learned representation from the discriminator using them for classification of 3D objects. After that, demonstrate qualitative and quantitative outcomes on the famous ModelNet benchmark and evaluate their 3D-VAE-GAN on the 3D reconstruction of objects from a single image on the IKEA dataset.\n",
    "\n",
    "The authors claim that their approach is state of the art. Empirically, they have shown that their 3D-GAN classification accuracy is better than other approaches. \n",
    "\n",
    "We can clearly see that the visual quality of the 3D model obtained is a low-resolution model, but it is impressive to see that how a machine can get a rudimentary understanding of 3D geometry in presence of occlusions, lighting and different camera angles.\n",
    "The approach also supports the interpolation between two shapes, which they consider for example between the chair of different shapes, we can use this technique to interpolate between different objects (like between car and a boat). Similarly, the paper showed that we can perform an arithmetic operation on shapes like add two chairs together or subtract different kinds of the table from each other. \n",
    "\n",
    "The main use case of these techniques would be like taking a photograph of furniture from the camera and automatically getting a digital 3D model of it. \n",
    "\n",
    "One of the most remarkable things about the paper is that learning took place on a very limited amount of data, not more than 25 training examples per class. This work would surely bring a lot of interesting follow-up papers where we can get extremely high-quality 3d models from photographs"
   ]
  },
  {
   "cell_type": "code",
   "execution_count": 2,
   "metadata": {},
   "outputs": [],
   "source": [
    "#### Exercise 1.3"
   ]
  },
  {
   "cell_type": "markdown",
   "metadata": {},
   "source": [
    "#### Exercise 2.1\n",
    "\n",
    "Problem: Visual quality of generated 3D designs is not as good as the manually designed 3D designs\n",
    "\n",
    "Few possible reasons for the above problem are as follows: \n",
    "\n",
    "1) 3D objects suffer from Distortions, noise ,obscure/missing parts and other artefacts (occlusions, lighting and different camera angles).\n",
    "\n",
    "2) GAN models are able to mimic shapes, but not surfaces. This results for lower visual quality object designs."
   ]
  },
  {
   "cell_type": "markdown",
   "metadata": {},
   "source": [
    "#### Exercise 2.2\n",
    "\n",
    "#### Summary of Paper:  “Automated Learning of User Preferences for Selection of High-Quality 3D Designs”\n",
    "\n",
    "The aim of the research was to come up with an automated 3D visual quality assessment machine learning estimator, which is able to evaluate the visual quality of 3D objects generated from 3D GAN and  choose good designs among mixture of available design, similar to human evaluation.  One of the important consideration in developing the quality assesment estimator was considering the aspect of the  user preference in selecting high quality 3D design and attempting to develop such an automated model which imitates human/user preferences. Thereby,  reducing the human intervention in process of quality analysis and inturn speed up design process.\n",
    "\n",
    "Additionaly, The user survey was also held by selecting a homogeneous user group,where participants have a similar understanding of what is a good and  bad representation of object design.\n",
    "\n",
    "From the carried out research, We can also understand how machine learning technologies can be utilized and applied for 3D object designing process.For the research objectives, the researchers  conducted experiments on 3D objects generated from 3D GAN.  The Various machine learning algorithms like SVM, Gradient  boosting, Deep Neural Networks were trained on generated 3d model and scrutinized to check which algorithm yields better results in terms of distinguishing between excellent and bad 3D objects. \n",
    "\n",
    "For the research experiments, the authors considered chair as a model class (limited domain) ,through which we can infer that the automated estimator is not a generic qualtiy estimator. Hence cannot be used to evaluate various other 3D design classes, which is limitation of the paper.\n",
    "\n",
    "\n",
    "\n"
   ]
  },
  {
   "cell_type": "markdown",
   "metadata": {},
   "source": [
    "Note: Solutions for the above exercises varies since Homework 7 is based on understanding and summarizing the research paper."
   ]
  }
 ],
 "metadata": {
  "kernelspec": {
   "display_name": "Python 3",
   "language": "python",
   "name": "python3"
  },
  "language_info": {
   "codemirror_mode": {
    "name": "ipython",
    "version": 3
   },
   "file_extension": ".py",
   "mimetype": "text/x-python",
   "name": "python",
   "nbconvert_exporter": "python",
   "pygments_lexer": "ipython3",
   "version": "3.6.6"
  }
 },
 "nbformat": 4,
 "nbformat_minor": 2
}
